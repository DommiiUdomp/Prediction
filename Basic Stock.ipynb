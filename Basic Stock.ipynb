{
 "cells": [
  {
   "cell_type": "code",
   "execution_count": 1,
   "id": "edc83e92",
   "metadata": {},
   "outputs": [],
   "source": [
    "import pandas_datareader as pdr"
   ]
  },
  {
   "cell_type": "code",
   "execution_count": 2,
   "id": "0a599e53",
   "metadata": {},
   "outputs": [],
   "source": [
    "import datetime as dt"
   ]
  },
  {
   "cell_type": "code",
   "execution_count": 35,
   "id": "ba525cf1",
   "metadata": {},
   "outputs": [
    {
     "data": {
      "text/html": [
       "<div>\n",
       "<style scoped>\n",
       "    .dataframe tbody tr th:only-of-type {\n",
       "        vertical-align: middle;\n",
       "    }\n",
       "\n",
       "    .dataframe tbody tr th {\n",
       "        vertical-align: top;\n",
       "    }\n",
       "\n",
       "    .dataframe thead th {\n",
       "        text-align: right;\n",
       "    }\n",
       "</style>\n",
       "<table border=\"1\" class=\"dataframe\">\n",
       "  <thead>\n",
       "    <tr style=\"text-align: right;\">\n",
       "      <th></th>\n",
       "      <th>High</th>\n",
       "      <th>Low</th>\n",
       "      <th>Open</th>\n",
       "      <th>Close</th>\n",
       "      <th>Volume</th>\n",
       "      <th>Adj Close</th>\n",
       "    </tr>\n",
       "    <tr>\n",
       "      <th>Date</th>\n",
       "      <th></th>\n",
       "      <th></th>\n",
       "      <th></th>\n",
       "      <th></th>\n",
       "      <th></th>\n",
       "      <th></th>\n",
       "    </tr>\n",
       "  </thead>\n",
       "  <tbody>\n",
       "    <tr>\n",
       "      <th>2018-12-31</th>\n",
       "      <td>47.770000</td>\n",
       "      <td>47.250000</td>\n",
       "      <td>47.599998</td>\n",
       "      <td>47.770000</td>\n",
       "      <td>11800.0</td>\n",
       "      <td>45.144661</td>\n",
       "    </tr>\n",
       "    <tr>\n",
       "      <th>2019-01-02</th>\n",
       "      <td>48.220001</td>\n",
       "      <td>47.770000</td>\n",
       "      <td>47.820000</td>\n",
       "      <td>47.970001</td>\n",
       "      <td>4000.0</td>\n",
       "      <td>45.333672</td>\n",
       "    </tr>\n",
       "    <tr>\n",
       "      <th>2019-01-03</th>\n",
       "      <td>47.820000</td>\n",
       "      <td>47.000000</td>\n",
       "      <td>47.549999</td>\n",
       "      <td>47.000000</td>\n",
       "      <td>4600.0</td>\n",
       "      <td>44.416977</td>\n",
       "    </tr>\n",
       "    <tr>\n",
       "      <th>2019-01-04</th>\n",
       "      <td>48.860001</td>\n",
       "      <td>47.970001</td>\n",
       "      <td>47.970001</td>\n",
       "      <td>48.709999</td>\n",
       "      <td>4600.0</td>\n",
       "      <td>46.032993</td>\n",
       "    </tr>\n",
       "    <tr>\n",
       "      <th>2019-01-07</th>\n",
       "      <td>49.250000</td>\n",
       "      <td>48.279999</td>\n",
       "      <td>48.279999</td>\n",
       "      <td>48.830002</td>\n",
       "      <td>5500.0</td>\n",
       "      <td>46.146404</td>\n",
       "    </tr>\n",
       "  </tbody>\n",
       "</table>\n",
       "</div>"
      ],
      "text/plain": [
       "                 High        Low       Open      Close   Volume  Adj Close\n",
       "Date                                                                      \n",
       "2018-12-31  47.770000  47.250000  47.599998  47.770000  11800.0  45.144661\n",
       "2019-01-02  48.220001  47.770000  47.820000  47.970001   4000.0  45.333672\n",
       "2019-01-03  47.820000  47.000000  47.549999  47.000000   4600.0  44.416977\n",
       "2019-01-04  48.860001  47.970001  47.970001  48.709999   4600.0  46.032993\n",
       "2019-01-07  49.250000  48.279999  48.279999  48.830002   5500.0  46.146404"
      ]
     },
     "execution_count": 35,
     "metadata": {},
     "output_type": "execute_result"
    }
   ],
   "source": [
    "# Load data\n",
    "\n",
    "stock = 'KCE'\n",
    "start = dt.datetime(2019,1,1)\n",
    "end = dt.datetime(2020,1,1)\n",
    "data = pdr.get_data_yahoo(stock,start)\n",
    "data.head()"
   ]
  },
  {
   "cell_type": "code",
   "execution_count": 36,
   "id": "a891b4d0",
   "metadata": {},
   "outputs": [
    {
     "data": {
      "text/plain": [
       "DatetimeIndex(['2018-12-31', '2019-01-02', '2019-01-03', '2019-01-04',\n",
       "               '2019-01-07', '2019-01-08', '2019-01-09', '2019-01-10',\n",
       "               '2019-01-11', '2019-01-14',\n",
       "               ...\n",
       "               '2021-08-23', '2021-08-24', '2021-08-25', '2021-08-26',\n",
       "               '2021-08-27', '2021-08-30', '2021-08-31', '2021-09-01',\n",
       "               '2021-09-02', '2021-09-03'],\n",
       "              dtype='datetime64[ns]', name='Date', length=675, freq=None)"
      ]
     },
     "execution_count": 36,
     "metadata": {},
     "output_type": "execute_result"
    }
   ],
   "source": [
    "data.index"
   ]
  },
  {
   "cell_type": "code",
   "execution_count": 37,
   "id": "5d6118d3",
   "metadata": {},
   "outputs": [
    {
     "data": {
      "text/html": [
       "<div>\n",
       "<style scoped>\n",
       "    .dataframe tbody tr th:only-of-type {\n",
       "        vertical-align: middle;\n",
       "    }\n",
       "\n",
       "    .dataframe tbody tr th {\n",
       "        vertical-align: top;\n",
       "    }\n",
       "\n",
       "    .dataframe thead th {\n",
       "        text-align: right;\n",
       "    }\n",
       "</style>\n",
       "<table border=\"1\" class=\"dataframe\">\n",
       "  <thead>\n",
       "    <tr style=\"text-align: right;\">\n",
       "      <th></th>\n",
       "      <th>High</th>\n",
       "      <th>Low</th>\n",
       "      <th>Open</th>\n",
       "      <th>Close</th>\n",
       "      <th>Volume</th>\n",
       "      <th>Adj Close</th>\n",
       "    </tr>\n",
       "    <tr>\n",
       "      <th>Date</th>\n",
       "      <th></th>\n",
       "      <th></th>\n",
       "      <th></th>\n",
       "      <th></th>\n",
       "      <th></th>\n",
       "      <th></th>\n",
       "    </tr>\n",
       "  </thead>\n",
       "  <tbody>\n",
       "    <tr>\n",
       "      <th>2021-08-30</th>\n",
       "      <td>100.500000</td>\n",
       "      <td>99.589996</td>\n",
       "      <td>100.500000</td>\n",
       "      <td>99.589996</td>\n",
       "      <td>1160000.0</td>\n",
       "      <td>99.589996</td>\n",
       "    </tr>\n",
       "    <tr>\n",
       "      <th>2021-08-31</th>\n",
       "      <td>100.339996</td>\n",
       "      <td>99.440002</td>\n",
       "      <td>100.339996</td>\n",
       "      <td>99.570000</td>\n",
       "      <td>1380000.0</td>\n",
       "      <td>99.570000</td>\n",
       "    </tr>\n",
       "    <tr>\n",
       "      <th>2021-09-01</th>\n",
       "      <td>100.540001</td>\n",
       "      <td>98.959999</td>\n",
       "      <td>99.830002</td>\n",
       "      <td>99.889999</td>\n",
       "      <td>3670000.0</td>\n",
       "      <td>99.889999</td>\n",
       "    </tr>\n",
       "    <tr>\n",
       "      <th>2021-09-02</th>\n",
       "      <td>100.680000</td>\n",
       "      <td>100.250000</td>\n",
       "      <td>100.269997</td>\n",
       "      <td>100.370003</td>\n",
       "      <td>1140000.0</td>\n",
       "      <td>100.370003</td>\n",
       "    </tr>\n",
       "    <tr>\n",
       "      <th>2021-09-03</th>\n",
       "      <td>100.589996</td>\n",
       "      <td>100.010002</td>\n",
       "      <td>100.449997</td>\n",
       "      <td>100.059998</td>\n",
       "      <td>1060000.0</td>\n",
       "      <td>100.059998</td>\n",
       "    </tr>\n",
       "  </tbody>\n",
       "</table>\n",
       "</div>"
      ],
      "text/plain": [
       "                  High         Low        Open       Close     Volume  \\\n",
       "Date                                                                    \n",
       "2021-08-30  100.500000   99.589996  100.500000   99.589996  1160000.0   \n",
       "2021-08-31  100.339996   99.440002  100.339996   99.570000  1380000.0   \n",
       "2021-09-01  100.540001   98.959999   99.830002   99.889999  3670000.0   \n",
       "2021-09-02  100.680000  100.250000  100.269997  100.370003  1140000.0   \n",
       "2021-09-03  100.589996  100.010002  100.449997  100.059998  1060000.0   \n",
       "\n",
       "             Adj Close  \n",
       "Date                    \n",
       "2021-08-30   99.589996  \n",
       "2021-08-31   99.570000  \n",
       "2021-09-01   99.889999  \n",
       "2021-09-02  100.370003  \n",
       "2021-09-03  100.059998  "
      ]
     },
     "execution_count": 37,
     "metadata": {},
     "output_type": "execute_result"
    }
   ],
   "source": [
    "data.tail()"
   ]
  },
  {
   "cell_type": "code",
   "execution_count": 38,
   "id": "45eea979",
   "metadata": {},
   "outputs": [
    {
     "data": {
      "text/plain": [
       "High         float64\n",
       "Low          float64\n",
       "Open         float64\n",
       "Close        float64\n",
       "Volume       float64\n",
       "Adj Close    float64\n",
       "dtype: object"
      ]
     },
     "execution_count": 38,
     "metadata": {},
     "output_type": "execute_result"
    }
   ],
   "source": [
    "data.dtypes"
   ]
  },
  {
   "cell_type": "code",
   "execution_count": 39,
   "id": "6b9bdf55",
   "metadata": {},
   "outputs": [
    {
     "data": {
      "text/html": [
       "<div>\n",
       "<style scoped>\n",
       "    .dataframe tbody tr th:only-of-type {\n",
       "        vertical-align: middle;\n",
       "    }\n",
       "\n",
       "    .dataframe tbody tr th {\n",
       "        vertical-align: top;\n",
       "    }\n",
       "\n",
       "    .dataframe thead th {\n",
       "        text-align: right;\n",
       "    }\n",
       "</style>\n",
       "<table border=\"1\" class=\"dataframe\">\n",
       "  <thead>\n",
       "    <tr style=\"text-align: right;\">\n",
       "      <th></th>\n",
       "      <th>Open</th>\n",
       "      <th>High</th>\n",
       "      <th>Low</th>\n",
       "      <th>Close</th>\n",
       "      <th>Volume</th>\n",
       "    </tr>\n",
       "    <tr>\n",
       "      <th>Date</th>\n",
       "      <th></th>\n",
       "      <th></th>\n",
       "      <th></th>\n",
       "      <th></th>\n",
       "      <th></th>\n",
       "    </tr>\n",
       "  </thead>\n",
       "  <tbody>\n",
       "    <tr>\n",
       "      <th>2021-09-24</th>\n",
       "      <td>96.95</td>\n",
       "      <td>97.7438</td>\n",
       "      <td>96.950</td>\n",
       "      <td>97.5164</td>\n",
       "      <td>6571</td>\n",
       "    </tr>\n",
       "    <tr>\n",
       "      <th>2021-09-23</th>\n",
       "      <td>96.13</td>\n",
       "      <td>97.6067</td>\n",
       "      <td>96.130</td>\n",
       "      <td>97.2700</td>\n",
       "      <td>8442</td>\n",
       "    </tr>\n",
       "    <tr>\n",
       "      <th>2021-09-22</th>\n",
       "      <td>94.66</td>\n",
       "      <td>95.5300</td>\n",
       "      <td>94.660</td>\n",
       "      <td>95.3343</td>\n",
       "      <td>5755</td>\n",
       "    </tr>\n",
       "    <tr>\n",
       "      <th>2021-09-21</th>\n",
       "      <td>94.72</td>\n",
       "      <td>95.0943</td>\n",
       "      <td>93.705</td>\n",
       "      <td>93.9900</td>\n",
       "      <td>64317</td>\n",
       "    </tr>\n",
       "    <tr>\n",
       "      <th>2021-09-20</th>\n",
       "      <td>95.11</td>\n",
       "      <td>95.1100</td>\n",
       "      <td>93.100</td>\n",
       "      <td>94.1100</td>\n",
       "      <td>25724</td>\n",
       "    </tr>\n",
       "  </tbody>\n",
       "</table>\n",
       "</div>"
      ],
      "text/plain": [
       "             Open     High     Low    Close  Volume\n",
       "Date                                               \n",
       "2021-09-24  96.95  97.7438  96.950  97.5164    6571\n",
       "2021-09-23  96.13  97.6067  96.130  97.2700    8442\n",
       "2021-09-22  94.66  95.5300  94.660  95.3343    5755\n",
       "2021-09-21  94.72  95.0943  93.705  93.9900   64317\n",
       "2021-09-20  95.11  95.1100  93.100  94.1100   25724"
      ]
     },
     "execution_count": 39,
     "metadata": {},
     "output_type": "execute_result"
    }
   ],
   "source": [
    "data2 = pdr.get_data_stooq(stock,start)\n",
    "data2.head()"
   ]
  },
  {
   "cell_type": "code",
   "execution_count": 40,
   "id": "837bed0d",
   "metadata": {},
   "outputs": [],
   "source": [
    "nas =pdr.get_nasdaq_symbols()"
   ]
  },
  {
   "cell_type": "code",
   "execution_count": 41,
   "id": "c5af4e2c",
   "metadata": {},
   "outputs": [
    {
     "data": {
      "text/plain": [
       "Nasdaq Traded                               True\n",
       "Security Name       SPDR S&P Capital Markets ETF\n",
       "Listing Exchange                               P\n",
       "Market Category                                 \n",
       "ETF                                         True\n",
       "Round Lot Size                             100.0\n",
       "Test Issue                                 False\n",
       "Financial Status                             NaN\n",
       "CQS Symbol                                   KCE\n",
       "NASDAQ Symbol                                KCE\n",
       "NextShares                                 False\n",
       "Name: KCE, dtype: object"
      ]
     },
     "execution_count": 41,
     "metadata": {},
     "output_type": "execute_result"
    }
   ],
   "source": [
    "nas.loc['KCE']"
   ]
  },
  {
   "cell_type": "code",
   "execution_count": 42,
   "id": "8fbfb726",
   "metadata": {},
   "outputs": [
    {
     "data": {
      "text/plain": [
       "11184"
      ]
     },
     "execution_count": 42,
     "metadata": {},
     "output_type": "execute_result"
    }
   ],
   "source": [
    "len(nas)"
   ]
  },
  {
   "cell_type": "code",
   "execution_count": 43,
   "id": "954e531e",
   "metadata": {},
   "outputs": [
    {
     "data": {
      "text/html": [
       "<div>\n",
       "<style scoped>\n",
       "    .dataframe tbody tr th:only-of-type {\n",
       "        vertical-align: middle;\n",
       "    }\n",
       "\n",
       "    .dataframe tbody tr th {\n",
       "        vertical-align: top;\n",
       "    }\n",
       "\n",
       "    .dataframe thead th {\n",
       "        text-align: right;\n",
       "    }\n",
       "</style>\n",
       "<table border=\"1\" class=\"dataframe\">\n",
       "  <thead>\n",
       "    <tr style=\"text-align: right;\">\n",
       "      <th></th>\n",
       "      <th>Nasdaq Traded</th>\n",
       "      <th>Security Name</th>\n",
       "      <th>Listing Exchange</th>\n",
       "      <th>Market Category</th>\n",
       "      <th>ETF</th>\n",
       "      <th>Round Lot Size</th>\n",
       "      <th>Test Issue</th>\n",
       "      <th>Financial Status</th>\n",
       "      <th>CQS Symbol</th>\n",
       "      <th>NASDAQ Symbol</th>\n",
       "      <th>NextShares</th>\n",
       "    </tr>\n",
       "    <tr>\n",
       "      <th>Symbol</th>\n",
       "      <th></th>\n",
       "      <th></th>\n",
       "      <th></th>\n",
       "      <th></th>\n",
       "      <th></th>\n",
       "      <th></th>\n",
       "      <th></th>\n",
       "      <th></th>\n",
       "      <th></th>\n",
       "      <th></th>\n",
       "      <th></th>\n",
       "    </tr>\n",
       "  </thead>\n",
       "  <tbody>\n",
       "    <tr>\n",
       "      <th>A</th>\n",
       "      <td>True</td>\n",
       "      <td>Agilent Technologies, Inc. Common Stock</td>\n",
       "      <td>N</td>\n",
       "      <td></td>\n",
       "      <td>False</td>\n",
       "      <td>100.0</td>\n",
       "      <td>False</td>\n",
       "      <td>NaN</td>\n",
       "      <td>A</td>\n",
       "      <td>A</td>\n",
       "      <td>False</td>\n",
       "    </tr>\n",
       "    <tr>\n",
       "      <th>AA</th>\n",
       "      <td>True</td>\n",
       "      <td>Alcoa Corporation Common Stock</td>\n",
       "      <td>N</td>\n",
       "      <td></td>\n",
       "      <td>False</td>\n",
       "      <td>100.0</td>\n",
       "      <td>False</td>\n",
       "      <td>NaN</td>\n",
       "      <td>AA</td>\n",
       "      <td>AA</td>\n",
       "      <td>False</td>\n",
       "    </tr>\n",
       "    <tr>\n",
       "      <th>AAA</th>\n",
       "      <td>True</td>\n",
       "      <td>Listed Funds Trust AAF First Priority CLO Bond...</td>\n",
       "      <td>P</td>\n",
       "      <td></td>\n",
       "      <td>True</td>\n",
       "      <td>100.0</td>\n",
       "      <td>False</td>\n",
       "      <td>NaN</td>\n",
       "      <td>AAA</td>\n",
       "      <td>AAA</td>\n",
       "      <td>False</td>\n",
       "    </tr>\n",
       "    <tr>\n",
       "      <th>AAAU</th>\n",
       "      <td>True</td>\n",
       "      <td>Goldman Sachs Physical Gold ETF Shares</td>\n",
       "      <td>P</td>\n",
       "      <td></td>\n",
       "      <td>True</td>\n",
       "      <td>100.0</td>\n",
       "      <td>False</td>\n",
       "      <td>NaN</td>\n",
       "      <td>AAAU</td>\n",
       "      <td>AAAU</td>\n",
       "      <td>False</td>\n",
       "    </tr>\n",
       "    <tr>\n",
       "      <th>AAC</th>\n",
       "      <td>True</td>\n",
       "      <td>Ares Acquisition Corporation Class A Ordinary ...</td>\n",
       "      <td>N</td>\n",
       "      <td></td>\n",
       "      <td>False</td>\n",
       "      <td>100.0</td>\n",
       "      <td>False</td>\n",
       "      <td>NaN</td>\n",
       "      <td>AAC</td>\n",
       "      <td>AAC</td>\n",
       "      <td>False</td>\n",
       "    </tr>\n",
       "  </tbody>\n",
       "</table>\n",
       "</div>"
      ],
      "text/plain": [
       "        Nasdaq Traded                                      Security Name  \\\n",
       "Symbol                                                                     \n",
       "A                True            Agilent Technologies, Inc. Common Stock   \n",
       "AA               True                    Alcoa Corporation Common Stock    \n",
       "AAA              True  Listed Funds Trust AAF First Priority CLO Bond...   \n",
       "AAAU             True             Goldman Sachs Physical Gold ETF Shares   \n",
       "AAC              True  Ares Acquisition Corporation Class A Ordinary ...   \n",
       "\n",
       "       Listing Exchange Market Category    ETF  Round Lot Size  Test Issue  \\\n",
       "Symbol                                                                       \n",
       "A                     N                  False           100.0       False   \n",
       "AA                    N                  False           100.0       False   \n",
       "AAA                   P                   True           100.0       False   \n",
       "AAAU                  P                   True           100.0       False   \n",
       "AAC                   N                  False           100.0       False   \n",
       "\n",
       "       Financial Status CQS Symbol NASDAQ Symbol  NextShares  \n",
       "Symbol                                                        \n",
       "A                   NaN          A             A       False  \n",
       "AA                  NaN         AA            AA       False  \n",
       "AAA                 NaN        AAA           AAA       False  \n",
       "AAAU                NaN       AAAU          AAAU       False  \n",
       "AAC                 NaN        AAC           AAC       False  "
      ]
     },
     "execution_count": 43,
     "metadata": {},
     "output_type": "execute_result"
    }
   ],
   "source": [
    "nas.head()"
   ]
  },
  {
   "cell_type": "code",
   "execution_count": 44,
   "id": "90f8c868",
   "metadata": {},
   "outputs": [],
   "source": [
    "import pandas as pd\n",
    "import numpy as np\n",
    "import matplotlib.pyplot as plt\n",
    "import pandas_datareader as web\n",
    "\n",
    "from sklearn.preprocessing import MinMaxScaler\n",
    "from tensorflow.keras.models import Sequential\n",
    "from tensorflow.keras.layers import Dense, Dropout, LSTM"
   ]
  },
  {
   "cell_type": "code",
   "execution_count": 45,
   "id": "750d95a0",
   "metadata": {},
   "outputs": [],
   "source": [
    "# Prepare data\n",
    "scaler = MinMaxScaler(feature_range=(0,1))\n",
    "scaled_data=scaler.fit_transform(data['Close'].values.reshape(-1,1))"
   ]
  },
  {
   "cell_type": "code",
   "execution_count": 46,
   "id": "ea03bfee",
   "metadata": {},
   "outputs": [],
   "source": [
    "prediction_days = 60\n",
    "\n",
    "x_train=[]\n",
    "y_train=[]\n",
    "\n",
    "for x in range (prediction_days,len(scaled_data)):\n",
    "    x_train.append(scaled_data[x-prediction_days:x,0])\n",
    "    y_train.append(scaled_data[x,0])\n",
    "\n",
    "x_train, y_train = np.array(x_train),np.array(y_train)\n",
    "x_train=np.reshape(x_train,(x_train.shape[0],x_train.shape[1],1))"
   ]
  },
  {
   "cell_type": "code",
   "execution_count": 47,
   "id": "5f7006b0",
   "metadata": {},
   "outputs": [
    {
     "name": "stdout",
     "output_type": "stream",
     "text": [
      "Epoch 1/25\n",
      "20/20 [==============================] - 7s 123ms/step - loss: 0.0757\n",
      "Epoch 2/25\n",
      "20/20 [==============================] - 3s 127ms/step - loss: 0.0097\n",
      "Epoch 3/25\n",
      "20/20 [==============================] - 3s 133ms/step - loss: 0.0055\n",
      "Epoch 4/25\n",
      "20/20 [==============================] - 2s 117ms/step - loss: 0.0048\n",
      "Epoch 5/25\n",
      "20/20 [==============================] - 2s 102ms/step - loss: 0.0049\n",
      "Epoch 6/25\n",
      "20/20 [==============================] - 2s 101ms/step - loss: 0.0052\n",
      "Epoch 7/25\n",
      "20/20 [==============================] - 2s 102ms/step - loss: 0.0045\n",
      "Epoch 8/25\n",
      "20/20 [==============================] - 2s 101ms/step - loss: 0.0043\n",
      "Epoch 9/25\n",
      "20/20 [==============================] - 2s 102ms/step - loss: 0.0042\n",
      "Epoch 10/25\n",
      "20/20 [==============================] - 2s 101ms/step - loss: 0.0039\n",
      "Epoch 11/25\n",
      "20/20 [==============================] - 2s 102ms/step - loss: 0.0041 1\n",
      "Epoch 12/25\n",
      "20/20 [==============================] - 2s 101ms/step - loss: 0.0037\n",
      "Epoch 13/25\n",
      "20/20 [==============================] - 2s 101ms/step - loss: 0.0036\n",
      "Epoch 14/25\n",
      "20/20 [==============================] - 2s 101ms/step - loss: 0.0039\n",
      "Epoch 15/25\n",
      "20/20 [==============================] - 2s 102ms/step - loss: 0.0042\n",
      "Epoch 16/25\n",
      "20/20 [==============================] - 2s 102ms/step - loss: 0.0034\n",
      "Epoch 17/25\n",
      "20/20 [==============================] - 2s 102ms/step - loss: 0.0037\n",
      "Epoch 18/25\n",
      "20/20 [==============================] - 2s 101ms/step - loss: 0.0034\n",
      "Epoch 19/25\n",
      "20/20 [==============================] - 2s 101ms/step - loss: 0.0033\n",
      "Epoch 20/25\n",
      "20/20 [==============================] - 2s 101ms/step - loss: 0.0037\n",
      "Epoch 21/25\n",
      "20/20 [==============================] - 2s 102ms/step - loss: 0.0034 0s - loss:\n",
      "Epoch 22/25\n",
      "20/20 [==============================] - 2s 102ms/step - loss: 0.0036 1s\n",
      "Epoch 23/25\n",
      "20/20 [==============================] - 2s 101ms/step - loss: 0.0033\n",
      "Epoch 24/25\n",
      "20/20 [==============================] - 2s 102ms/step - loss: 0.0032\n",
      "Epoch 25/25\n",
      "20/20 [==============================] - 2s 102ms/step - loss: 0.0036\n"
     ]
    },
    {
     "data": {
      "text/plain": [
       "'Test the Model Accuracy on Existing Data'"
      ]
     },
     "execution_count": 47,
     "metadata": {},
     "output_type": "execute_result"
    }
   ],
   "source": [
    "# Build the model\n",
    "model = Sequential()\n",
    "\n",
    "model.add(LSTM(units=50, return_sequences=True, input_shape =(x_train.shape[1],1)))\n",
    "model.add(Dropout(0.2))\n",
    "model.add(LSTM(units=50, return_sequences=True))\n",
    "model.add(Dropout(0.2))\n",
    "model.add(LSTM(units=50))\n",
    "model.add(Dropout(0.2))\n",
    "model.add(Dense(units=1)) # Prediction of the next closing value\n",
    "\n",
    "model.compile(optimizer='adam',loss='mean_squared_error')\n",
    "model.fit(x_train,y_train,epochs=25,batch_size=32)\n",
    "\n",
    "'''Test the Model Accuracy on Existing Data'''"
   ]
  },
  {
   "cell_type": "code",
   "execution_count": 48,
   "id": "3522e415",
   "metadata": {},
   "outputs": [],
   "source": [
    "# Load Test data\n",
    "test_start=dt.datetime(2020,1,1)\n",
    "test_end=dt.datetime.now()\n",
    "\n",
    "test_data=web.DataReader(stock,'yahoo',test_start,test_end)\n",
    "actual_prices=test_data['Close'].values\n",
    "\n",
    "total_dataset=pd.concat((data['Close'],test_data['Close']),axis=0)\n",
    "\n",
    "model_inputs=total_dataset[len(total_dataset)-len(test_data)-prediction_days:].values\n",
    "model_inputs=model_inputs.reshape(-1,1)\n",
    "model_inputs=scaler.transform(model_inputs)"
   ]
  },
  {
   "cell_type": "code",
   "execution_count": 50,
   "id": "662cd81e",
   "metadata": {},
   "outputs": [],
   "source": [
    "# Make predictions on Test data\n",
    "x_test=[]\n",
    "\n",
    "for x in range (prediction_days,len(model_inputs)) :\n",
    "    x_test.append(model_inputs[x-prediction_days:x,0])\n",
    "\n",
    "x_test = np.array(x_test)\n",
    "x_test = np.reshape(x_test,(x_test.shape[0],x_test.shape[1],1))\n",
    "\n",
    "predicted_prices = model.predict(x_test)\n",
    "predicted_prices = scaler.inverse_transform(predicted_prices)"
   ]
  },
  {
   "cell_type": "code",
   "execution_count": 51,
   "id": "4ada28f5",
   "metadata": {},
   "outputs": [
    {
     "data": {
      "image/png": "[encoded data removed]",
      "text/plain": [
       "<Figure size 432x288 with 1 Axes>"
      ]
     },
     "metadata": {
      "needs_background": "light"
     },
     "output_type": "display_data"
    }
   ],
   "source": [
    "# plot the test predictions\n",
    "plt.plot(actual_prices,color='black',label=f'Actual{stock} Price')\n",
    "plt.plot(predicted_prices,color='green',label=f'Predicted{stock} Price')\n",
    "plt.title(f'{stock} Share Price')\n",
    "plt.xlabel('Time')\n",
    "plt.ylabel(f'{stock} Share Price')\n",
    "\n",
    "plt.legend()\n",
    "plt.show()"
   ]
  },
  {
   "cell_type": "code",
   "execution_count": 52,
   "id": "3c76ae0a",
   "metadata": {},
   "outputs": [
    {
     "name": "stdout",
     "output_type": "stream",
     "text": [
      "WARNING:tensorflow:Model was constructed with shape (None, 60, 1) for input KerasTensor(type_spec=TensorSpec(shape=(None, 60, 1), dtype=tf.float32, name='lstm_3_input'), name='lstm_3_input', description=\"created by layer 'lstm_3_input'\"), but it was called on an input with incompatible shape (None, 59, 1).\n",
      "Prediction: [[97.99923]]\n"
     ]
    }
   ],
   "source": [
    "# Predict Next day\n",
    "\n",
    "real_data = [model_inputs[len(model_inputs) + 1 - prediction_days:len(model_inputs+1),0]]\n",
    "real_data = np.array(real_data)\n",
    "real_data = np.reshape(real_data,(real_data.shape[0],real_data.shape[1],1))\n",
    "\n",
    "prediction = model.predict(real_data)\n",
    "prediction = scaler.inverse_transform(prediction)\n",
    "print (f'Prediction: {prediction}')"
   ]
  },
  {
   "cell_type": "code",
   "execution_count": null,
   "id": "ced3df82",
   "metadata": {},
   "outputs": [],
   "source": []
  }
 ],
 "metadata": {
  "kernelspec": {
   "display_name": "Python 3",
   "language": "python",
   "name": "python3"
  },
  "language_info": {
   "codemirror_mode": {
    "name": "ipython",
    "version": 3
   },
   "file_extension": ".py",
   "mimetype": "text/x-python",
   "name": "python",
   "nbconvert_exporter": "python",
   "pygments_lexer": "ipython3",
   "version": "3.8.8"
  }
 },
 "nbformat": 4,
 "nbformat_minor": 5
}
